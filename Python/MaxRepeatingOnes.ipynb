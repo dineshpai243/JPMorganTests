{
 "cells": [
  {
   "cell_type": "code",
   "execution_count": 6,
   "id": "382eb8eb-548e-431b-aae8-3b3ebc46ce2c",
   "metadata": {
    "tags": []
   },
   "outputs": [
    {
     "data": {
      "text/plain": [
       "'\\nThis is a multi-line comment.\\nYou can use triple double quotes\\nto span multiple lines.\\n'"
      ]
     },
     "execution_count": 6,
     "metadata": {},
     "output_type": "execute_result"
    }
   ],
   "source": [
    "\"\"\"\n",
    "Problem 2:\n",
    "\n",
    "Write a function that accept a number and returns the starting position of the longest continuous sequence of 1s in its binary format.\n",
    "\n",
    "Examples:\n",
    "Case 1:\n",
    "Input : 156\n",
    "Output : 4\n",
    "Explanation: 156 when converted to binary, the result will be 10011100 and the maximum continuous 1s are starting at 4th position\n",
    "\n",
    "Case 2:\n",
    "Input : 88\n",
    "Output : 3\n",
    "Explanation : 88’s binary representation is 1011000 and the maximum continuous 1s occur at position 3.\n",
    "\"\"\"\n",
    "\n",
    "\"\"\"\n",
    "ASSUMPTIONS:\n",
    "Number is a Positive integer.\n",
    "\n",
    "Approach:\n",
    "The number is parsed from the least bit to the right, till the number is 0. The start index is adjusted with the bitLength\n",
    "to provide the right index with the first prominent bit as index 1 as stated in the requirements\n",
    "\"\"\""
   ]
  },
  {
   "cell_type": "code",
   "execution_count": 1,
   "id": "5bc31a76-f612-4e80-bef9-8324274ffe58",
   "metadata": {
    "tags": []
   },
   "outputs": [],
   "source": [
    "import math\n",
    "\n",
    "def GetPositionOfMaxOnes(number: int) -> int:\n",
    "    if number <= 0:\n",
    "        return 0\n",
    "\n",
    "    maxOnes = 0\n",
    "    currentOnes = 0\n",
    "    maxOnesIndex = -1\n",
    "    currentStartIndex = 0\n",
    "    bitLength = int(math.log2(number)) + 1\n",
    "    index = 0\n",
    "\n",
    "    while number > 0:\n",
    "        if number % 2 == 1:\n",
    "            currentOnes += 1\n",
    "            if currentOnes == 1:\n",
    "                currentStartIndex = index\n",
    "        else:\n",
    "            currentOnes = 0\n",
    "\n",
    "        if currentOnes >= maxOnes:\n",
    "            maxOnes = currentOnes\n",
    "            maxOnesIndex = currentStartIndex\n",
    "\n",
    "        number = number // 2\n",
    "        index += 1\n",
    "\n",
    "    # Calculating the index from left to right\n",
    "    if maxOnesIndex != -1:\n",
    "        maxOnesIndex = bitLength - (maxOnesIndex + maxOnes - 1)\n",
    "\n",
    "    return maxOnesIndex"
   ]
  },
  {
   "cell_type": "code",
   "execution_count": 7,
   "id": "4a05bcb9-c056-4013-aaa9-e1c39ffbac1a",
   "metadata": {
    "tags": []
   },
   "outputs": [
    {
     "name": "stderr",
     "output_type": "stream",
     "text": [
      "....\n",
      "----------------------------------------------------------------------\n",
      "Ran 4 tests in 0.003s\n",
      "\n",
      "OK\n"
     ]
    }
   ],
   "source": [
    "import unittest\n",
    "class MaxRepeatingOnesTests(unittest.TestCase):\n",
    "    \n",
    "    def testCheckForCorrectIndexTest(self):\n",
    "        number = 156  # 10011100\n",
    "        result = GetPositionOfMaxOnes(number)\n",
    "        self.assertEqual(result, 4)\n",
    "\n",
    "    def testCheckForZeroTest(self):\n",
    "        number = 0\n",
    "        result = GetPositionOfMaxOnes(number)\n",
    "        self.assertEqual(result, 0)\n",
    "\n",
    "    def testCheckForValidNumbersTest(self):\n",
    "        test_cases = [\n",
    "            (217, 1),\n",
    "            (8, 1),\n",
    "            (156, 4),\n",
    "            (88, 3),\n",
    "            (255, 1),\n",
    "            (1692567, 5)  # 110011101001110010111\n",
    "        ]\n",
    "        for number, expected_res in test_cases:\n",
    "            result = GetPositionOfMaxOnes(number)\n",
    "            self.assertEqual(result, expected_res)\n",
    "\n",
    "    def testCheckNegativeNumberTest(self):\n",
    "        number = -5\n",
    "        result = GetPositionOfMaxOnes(number)\n",
    "        self.assertEqual(result, 0)\n",
    "\n",
    "if __name__ == \"__main__\":\n",
    "    suite = unittest.TestLoader().loadTestsFromTestCase(MaxRepeatingOnesTests)\n",
    "    unittest.TextTestRunner().run(suite)"
   ]
  },
  {
   "cell_type": "code",
   "execution_count": null,
   "id": "c43ba991-da0c-47e1-ac51-8e5d67c884a9",
   "metadata": {},
   "outputs": [],
   "source": []
  }
 ],
 "metadata": {
  "kernelspec": {
   "display_name": "Python 3 (ipykernel)",
   "language": "python",
   "name": "python3"
  },
  "language_info": {
   "codemirror_mode": {
    "name": "ipython",
    "version": 3
   },
   "file_extension": ".py",
   "mimetype": "text/x-python",
   "name": "python",
   "nbconvert_exporter": "python",
   "pygments_lexer": "ipython3",
   "version": "3.11.5"
  }
 },
 "nbformat": 4,
 "nbformat_minor": 5
}
